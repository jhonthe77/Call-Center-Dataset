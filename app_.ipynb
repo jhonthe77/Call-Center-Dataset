{
 "cells": [
  {
   "cell_type": "code",
   "execution_count": 40,
   "metadata": {},
   "outputs": [],
   "source": [
    "import pandas as pd\n",
    "import calendar\n"
   ]
  },
  {
   "cell_type": "code",
   "execution_count": 41,
   "metadata": {},
   "outputs": [],
   "source": [
    "df=pd.read_excel(\"Telecom Company Call-Center-Dataset.xlsx\")"
   ]
  },
  {
   "cell_type": "code",
   "execution_count": 42,
   "metadata": {},
   "outputs": [],
   "source": [
    "#dicionario para renombara las columnas del df\n",
    "columns_name_es={\n",
    "    'Agent': 'Agente',\n",
    "    'Date': 'Fecha',\n",
    "    'Time': 'Hora',\n",
    "    'Topic': 'Tema',\n",
    "    'Answered (Y/N)': 'Respondido (S/N)',\n",
    "    'Resolved': 'Resuelto',\n",
    "    'Speed of answer in seconds': 'Velocidad de respuesta en segundos',\n",
    "    'AvgTalkDuration': 'Duración promedio de la llamada',\n",
    "    'Satisfaction rating': 'Calificación de satisfacción',\n",
    "    'Duracion_llamada': 'Duración de la llamada',\n",
    "    'Duracion_llamad_minutos': 'Duración de la llamada en minutos'\n",
    "}\n",
    "\n"
   ]
  },
  {
   "cell_type": "code",
   "execution_count": 43,
   "metadata": {},
   "outputs": [
    {
     "name": "stdout",
     "output_type": "stream",
     "text": [
      "<class 'pandas.core.frame.DataFrame'>\n",
      "RangeIndex: 5000 entries, 0 to 4999\n",
      "Data columns (total 9 columns):\n",
      " #   Column                      Non-Null Count  Dtype  \n",
      "---  ------                      --------------  -----  \n",
      " 0   Agent                       5000 non-null   object \n",
      " 1   Date                        5000 non-null   object \n",
      " 2   Time                        5000 non-null   object \n",
      " 3   Topic                       5000 non-null   object \n",
      " 4   Answered (Y/N)              5000 non-null   object \n",
      " 5   Resolved                    5000 non-null   object \n",
      " 6   Speed of answer in seconds  4054 non-null   float64\n",
      " 7   AvgTalkDuration             4054 non-null   object \n",
      " 8   Satisfaction rating         4054 non-null   float64\n",
      "dtypes: float64(2), object(7)\n",
      "memory usage: 351.7+ KB\n"
     ]
    }
   ],
   "source": [
    "#elimino la columna id ya que no es relevante \n",
    "df.drop(columns='Call Id',inplace=True)\n",
    "df.info()"
   ]
  },
  {
   "cell_type": "code",
   "execution_count": 44,
   "metadata": {},
   "outputs": [],
   "source": [
    "#transformo la colonna Time y Date a fomato fecha para poder trabar con ellas \n",
    "df['Time']=pd.to_datetime(df['Time'],format='%H:%M:%S')\n",
    "df['Date']=pd.to_datetime(df['Date'])\n",
    "#estraigo solo la hora de la colonna Time y remplazo sus valores\n",
    "df['Time']=df['Time'].dt.hour"
   ]
  },
  {
   "cell_type": "code",
   "execution_count": 45,
   "metadata": {},
   "outputs": [],
   "source": [
    "#remplazo los valores nulos con ceros\n",
    "df.fillna(0,inplace=True)"
   ]
  },
  {
   "cell_type": "code",
   "execution_count": 46,
   "metadata": {},
   "outputs": [],
   "source": [
    "#creo una lista donde extraigo los minutos y segundos y los sumos para crear una nueva columna\n",
    "minutos_segundos = [(minuto.minute*60) + minuto.second \n",
    "                    if not isinstance(minuto,int) else 0 for minuto in df['AvgTalkDuration']]\n",
    "\n",
    "#creo una lista donde extraigo los minutos y segundos por separado sin sumarlos\n",
    "minutos=[ round(minuto/60 ,2)if minuto > 59 else round(minuto % 60/60 ,2)\n",
    "         for minuto in minutos_segundos]"
   ]
  },
  {
   "cell_type": "code",
   "execution_count": 47,
   "metadata": {},
   "outputs": [],
   "source": [
    "#creo la dos columnas y las lleno con los datos de las listas\n",
    "df['Duracion_llamada']= minutos_segundos  \n",
    "df['Duracion_llamad_minutos']= minutos"
   ]
  },
  {
   "cell_type": "code",
   "execution_count": 48,
   "metadata": {},
   "outputs": [
    {
     "name": "stderr",
     "output_type": "stream",
     "text": [
      "C:\\Users\\jhont\\AppData\\Local\\Temp\\ipykernel_15900\\2131925262.py:4: SettingWithCopyWarning: \n",
      "A value is trying to be set on a copy of a slice from a DataFrame.\n",
      "Try using .loc[row_indexer,col_indexer] = value instead\n",
      "\n",
      "See the caveats in the documentation: https://pandas.pydata.org/pandas-docs/stable/user_guide/indexing.html#returning-a-view-versus-a-copy\n",
      "  df_.loc[:,'NombreDia']=df_['Date'].dt.strftime('%A')\n",
      "C:\\Users\\jhont\\AppData\\Local\\Temp\\ipykernel_15900\\2131925262.py:6: SettingWithCopyWarning: \n",
      "A value is trying to be set on a copy of a slice from a DataFrame.\n",
      "Try using .loc[row_indexer,col_indexer] = value instead\n",
      "\n",
      "See the caveats in the documentation: https://pandas.pydata.org/pandas-docs/stable/user_guide/indexing.html#returning-a-view-versus-a-copy\n",
      "  df_.loc[:,'NombreMes']=df_['Date'].dt.month.apply(lambda x: calendar.month_name[x])\n"
     ]
    }
   ],
   "source": [
    "#filtro el df y creo una copia con la Duracion_llamada que se mayor a cero para trabajar con datos de valor \n",
    "df_=df.loc[(df['Duracion_llamada']>0)]\n",
    "#creo una columna con el nombre del dia de la fecha que tengo en Date \n",
    "df_.loc[:,'NombreDia']=df_['Date'].dt.strftime('%A')\n",
    "#creo una columna con el nombre del mes de la fecha que tengo en Date \n",
    "df_.loc[:,'NombreMes']=df_['Date'].dt.month.apply(lambda x: calendar.month_name[x])"
   ]
  },
  {
   "cell_type": "code",
   "execution_count": 49,
   "metadata": {},
   "outputs": [
    {
     "name": "stderr",
     "output_type": "stream",
     "text": [
      "C:\\Users\\jhont\\AppData\\Local\\Temp\\ipykernel_15900\\1760142093.py:2: SettingWithCopyWarning: \n",
      "A value is trying to be set on a copy of a slice from a DataFrame\n",
      "\n",
      "See the caveats in the documentation: https://pandas.pydata.org/pandas-docs/stable/user_guide/indexing.html#returning-a-view-versus-a-copy\n",
      "  df_.rename(columns=columns_name_es,inplace=True)\n"
     ]
    }
   ],
   "source": [
    "#renombro las columnas con el dicionario que cree en la parte superior\n",
    "df_.rename(columns=columns_name_es,inplace=True)\n"
   ]
  },
  {
   "cell_type": "code",
   "execution_count": 50,
   "metadata": {},
   "outputs": [
    {
     "data": {
      "text/html": [
       "<div>\n",
       "<style scoped>\n",
       "    .dataframe tbody tr th:only-of-type {\n",
       "        vertical-align: middle;\n",
       "    }\n",
       "\n",
       "    .dataframe tbody tr th {\n",
       "        vertical-align: top;\n",
       "    }\n",
       "\n",
       "    .dataframe thead th {\n",
       "        text-align: right;\n",
       "    }\n",
       "</style>\n",
       "<table border=\"1\" class=\"dataframe\">\n",
       "  <thead>\n",
       "    <tr style=\"text-align: right;\">\n",
       "      <th></th>\n",
       "      <th>Agente</th>\n",
       "      <th>Fecha</th>\n",
       "      <th>Hora</th>\n",
       "      <th>Tema</th>\n",
       "      <th>Respondido (S/N)</th>\n",
       "      <th>Resuelto</th>\n",
       "      <th>Velocidad de respuesta en segundos</th>\n",
       "      <th>Duración promedio de la llamada</th>\n",
       "      <th>Calificación de satisfacción</th>\n",
       "      <th>Duración de la llamada</th>\n",
       "      <th>Duración de la llamada en minutos</th>\n",
       "      <th>NombreDia</th>\n",
       "      <th>NombreMes</th>\n",
       "    </tr>\n",
       "  </thead>\n",
       "  <tbody>\n",
       "    <tr>\n",
       "      <th>0</th>\n",
       "      <td>Diane</td>\n",
       "      <td>2021-01-01</td>\n",
       "      <td>9</td>\n",
       "      <td>Contract related</td>\n",
       "      <td>Y</td>\n",
       "      <td>Y</td>\n",
       "      <td>109.0</td>\n",
       "      <td>00:02:23</td>\n",
       "      <td>3.0</td>\n",
       "      <td>143</td>\n",
       "      <td>2.38</td>\n",
       "      <td>Friday</td>\n",
       "      <td>January</td>\n",
       "    </tr>\n",
       "    <tr>\n",
       "      <th>1</th>\n",
       "      <td>Becky</td>\n",
       "      <td>2021-01-01</td>\n",
       "      <td>9</td>\n",
       "      <td>Technical Support</td>\n",
       "      <td>Y</td>\n",
       "      <td>N</td>\n",
       "      <td>70.0</td>\n",
       "      <td>00:04:02</td>\n",
       "      <td>3.0</td>\n",
       "      <td>242</td>\n",
       "      <td>4.03</td>\n",
       "      <td>Friday</td>\n",
       "      <td>January</td>\n",
       "    </tr>\n",
       "    <tr>\n",
       "      <th>2</th>\n",
       "      <td>Stewart</td>\n",
       "      <td>2021-01-01</td>\n",
       "      <td>9</td>\n",
       "      <td>Contract related</td>\n",
       "      <td>Y</td>\n",
       "      <td>Y</td>\n",
       "      <td>10.0</td>\n",
       "      <td>00:02:11</td>\n",
       "      <td>3.0</td>\n",
       "      <td>131</td>\n",
       "      <td>2.18</td>\n",
       "      <td>Friday</td>\n",
       "      <td>January</td>\n",
       "    </tr>\n",
       "    <tr>\n",
       "      <th>3</th>\n",
       "      <td>Greg</td>\n",
       "      <td>2021-01-01</td>\n",
       "      <td>9</td>\n",
       "      <td>Contract related</td>\n",
       "      <td>Y</td>\n",
       "      <td>Y</td>\n",
       "      <td>53.0</td>\n",
       "      <td>00:00:37</td>\n",
       "      <td>2.0</td>\n",
       "      <td>37</td>\n",
       "      <td>0.62</td>\n",
       "      <td>Friday</td>\n",
       "      <td>January</td>\n",
       "    </tr>\n",
       "    <tr>\n",
       "      <th>4</th>\n",
       "      <td>Becky</td>\n",
       "      <td>2021-01-01</td>\n",
       "      <td>10</td>\n",
       "      <td>Payment related</td>\n",
       "      <td>Y</td>\n",
       "      <td>Y</td>\n",
       "      <td>95.0</td>\n",
       "      <td>00:01:00</td>\n",
       "      <td>3.0</td>\n",
       "      <td>60</td>\n",
       "      <td>1.00</td>\n",
       "      <td>Friday</td>\n",
       "      <td>January</td>\n",
       "    </tr>\n",
       "  </tbody>\n",
       "</table>\n",
       "</div>"
      ],
      "text/plain": [
       "    Agente      Fecha  Hora               Tema Respondido (S/N) Resuelto  \\\n",
       "0    Diane 2021-01-01     9   Contract related                Y        Y   \n",
       "1    Becky 2021-01-01     9  Technical Support                Y        N   \n",
       "2  Stewart 2021-01-01     9   Contract related                Y        Y   \n",
       "3     Greg 2021-01-01     9   Contract related                Y        Y   \n",
       "4    Becky 2021-01-01    10    Payment related                Y        Y   \n",
       "\n",
       "   Velocidad de respuesta en segundos Duración promedio de la llamada  \\\n",
       "0                               109.0                        00:02:23   \n",
       "1                                70.0                        00:04:02   \n",
       "2                                10.0                        00:02:11   \n",
       "3                                53.0                        00:00:37   \n",
       "4                                95.0                        00:01:00   \n",
       "\n",
       "   Calificación de satisfacción  Duración de la llamada  \\\n",
       "0                           3.0                     143   \n",
       "1                           3.0                     242   \n",
       "2                           3.0                     131   \n",
       "3                           2.0                      37   \n",
       "4                           3.0                      60   \n",
       "\n",
       "   Duración de la llamada en minutos NombreDia NombreMes  \n",
       "0                               2.38    Friday   January  \n",
       "1                               4.03    Friday   January  \n",
       "2                               2.18    Friday   January  \n",
       "3                               0.62    Friday   January  \n",
       "4                               1.00    Friday   January  "
      ]
     },
     "execution_count": 50,
     "metadata": {},
     "output_type": "execute_result"
    }
   ],
   "source": [
    "df_.head()"
   ]
  },
  {
   "cell_type": "code",
   "execution_count": 51,
   "metadata": {},
   "outputs": [],
   "source": [
    "df_.to_csv('Callcenter.csv', )\n",
    "df_.to_excel('Callcenter.xlsx', index=False)"
   ]
  }
 ],
 "metadata": {
  "kernelspec": {
   "display_name": "Python 3",
   "language": "python",
   "name": "python3"
  },
  "language_info": {
   "codemirror_mode": {
    "name": "ipython",
    "version": 3
   },
   "file_extension": ".py",
   "mimetype": "text/x-python",
   "name": "python",
   "nbconvert_exporter": "python",
   "pygments_lexer": "ipython3",
   "version": "3.10.11"
  }
 },
 "nbformat": 4,
 "nbformat_minor": 2
}
