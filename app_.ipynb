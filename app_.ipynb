{
 "cells": [
  {
   "cell_type": "code",
   "execution_count": 240,
   "metadata": {},
   "outputs": [],
   "source": [
    "import pandas as pd"
   ]
  },
  {
   "cell_type": "code",
   "execution_count": 241,
   "metadata": {},
   "outputs": [],
   "source": [
    "df=pd.read_excel(\"Telecom Company Call-Center-Dataset.xlsx\")"
   ]
  },
  {
   "cell_type": "code",
   "execution_count": 242,
   "metadata": {},
   "outputs": [
    {
     "data": {
      "text/plain": [
       "Index(['Call Id', 'Agent', 'Date', 'Time', 'Topic', 'Answered (Y/N)',\n",
       "       'Resolved', 'Speed of answer in seconds', 'AvgTalkDuration',\n",
       "       'Satisfaction rating'],\n",
       "      dtype='object')"
      ]
     },
     "execution_count": 242,
     "metadata": {},
     "output_type": "execute_result"
    }
   ],
   "source": [
    "df.columns"
   ]
  },
  {
   "cell_type": "code",
   "execution_count": 243,
   "metadata": {},
   "outputs": [],
   "source": [
    "df.drop(columns='Call Id',inplace=True)"
   ]
  },
  {
   "cell_type": "code",
   "execution_count": 244,
   "metadata": {},
   "outputs": [],
   "source": [
    "df['Time']=pd.to_datetime(df['Time'],format='%H:%M:%S')\n",
    "df['Time']=df['Time'].dt.hour\n"
   ]
  },
  {
   "cell_type": "code",
   "execution_count": 245,
   "metadata": {},
   "outputs": [],
   "source": [
    "df.fillna(0,inplace=True)"
   ]
  },
  {
   "cell_type": "code",
   "execution_count": 246,
   "metadata": {},
   "outputs": [],
   "source": [
    "f=[df['AvgTalkDuration']]\n",
    "list_hora=[]\n",
    "for i in f:\n",
    "    for j in i:\n",
    "            b=str(j)[3:5]\n",
    "            b_c=str(j)[6:]\n",
    "            c=b.replace('','')\n",
    "            if len(c)==2 and len(b_c)==2:\n",
    "                list_hora.append(int(c)*60+int(b_c))\n",
    "            else:\n",
    "                c=0\n",
    "                list_hora.append(c)\n",
    "\n",
    "        \n",
    "df['Duracion_llamada']= list_hora      "
   ]
  },
  {
   "cell_type": "code",
   "execution_count": 249,
   "metadata": {},
   "outputs": [],
   "source": [
    "df_=df.loc[df['Duracion_llamada']>0]"
   ]
  }
 ],
 "metadata": {
  "kernelspec": {
   "display_name": "Python 3",
   "language": "python",
   "name": "python3"
  },
  "language_info": {
   "codemirror_mode": {
    "name": "ipython",
    "version": 3
   },
   "file_extension": ".py",
   "mimetype": "text/x-python",
   "name": "python",
   "nbconvert_exporter": "python",
   "pygments_lexer": "ipython3",
   "version": "3.10.11"
  }
 },
 "nbformat": 4,
 "nbformat_minor": 2
}
